{
 "cells": [
  {
   "cell_type": "markdown",
   "metadata": {},
   "source": [
    "# <center> R1.13 introduction à Python <br> TP1a - boucles et récurrences : révisions sur les suites  </center>\n",
    "<center> 2024/2025 - Thibault Godin </center>\n",
    "<center> IUT de Vannes, BUT Informatique </center>\n",
    "\n",
    "***\n",
    "\n"
   ]
  },
  {
   "cell_type": "code",
   "execution_count": 2,
   "metadata": {},
   "outputs": [],
   "source": [
    "import math\n",
    "import numpy as np\n",
    "\n",
    "import matplotlib.pyplot as plt"
   ]
  },
  {
   "cell_type": "markdown",
   "metadata": {},
   "source": [
    "# 1: 1 lapin, 2 lapins, 3 lapins ...\n",
    "\n",
    "Un mathématicien (très) naïf a entendu dire que les lapins se reproduisent. Il suppose donc que si on commence avec $a$ lapins, la population devrait augmenter.\n",
    "\n",
    "Ayant des connaissances (très) limitées en biologie, il propose de modéliser le nombre de lapins avec la suite la plus simple qu'il connaisse, la **suite arithmétique**.\n",
    "\n",
    "\n",
    "Voici une implémentation récursive de cette suite $u_0=a$ ; $u_{n+1}=u_n + r$."
   ]
  },
  {
   "cell_type": "code",
   "execution_count": 3,
   "metadata": {},
   "outputs": [
    {
     "data": {
      "text/plain": [
       "21"
      ]
     },
     "execution_count": 3,
     "metadata": {},
     "output_type": "execute_result"
    }
   ],
   "source": [
    "def arithmetic_rec(r,a,n):\n",
    "    '''\n",
    "    in: common adding r, initial term , number of iteration n\n",
    "    type: q float, r float, n int\n",
    "    return: n-th term of the arithmetic progression\n",
    "    rtype:float\n",
    "    '''\n",
    "    if n==0:\n",
    "        return a\n",
    "    else :\n",
    "        return arithmetic_rec(r,a,n-1) +r\n",
    "    \n",
    "arithmetic_rec(2,11,5)\n",
    "\n",
    "\n"
   ]
  },
  {
   "cell_type": "markdown",
   "metadata": {},
   "source": [
    "\n",
    ">**question 1:** \n",
    ">écrire une fonction <tt> arithmetic </tt> qui calcule $u_n$ de manière impérative (c-à-d avec une boucle).\n",
    ">\n",
    ">Donner une formule explicite pour $u_n$\n"
   ]
  },
  {
   "cell_type": "code",
   "execution_count": 10,
   "metadata": {},
   "outputs": [
    {
     "data": {
      "text/plain": [
       "21"
      ]
     },
     "execution_count": 10,
     "metadata": {},
     "output_type": "execute_result"
    }
   ],
   "source": [
    "def arithmetic(r,a,n):\n",
    "    '''\n",
    "    in: common adding r, initial term , number of iteration n\n",
    "    type: q float, r float, n int\n",
    "    return: n-th term of the arithmetic progression\n",
    "    rtype:float\n",
    "    '''\n",
    "    \n",
    "    u=a\n",
    "\n",
    "    for i in range(n):\n",
    "        u = u + r\n",
    "\n",
    "    return u\n",
    "\n",
    "arithmetic(2,11,5)\n",
    "    \n",
    "\n"
   ]
  },
  {
   "cell_type": "markdown",
   "metadata": {},
   "source": [
    "\n",
    ">**question 2:** \n",
    ">écrire une fonction <tt> arithmetic_list </tt> qui calcule les $n$ premiers termes de la suite $(u_n)$ en utilisant >les une [liste en compréhension](https://docs.python.org/3.10/tutorial/datastructures.html#list-comprehensions).\n",
    "\n"
   ]
  },
  {
   "cell_type": "code",
   "execution_count": 14,
   "metadata": {},
   "outputs": [
    {
     "data": {
      "text/plain": [
       "[3, 5, 7, 9, 11, 13, 15, 17, 19, 21]"
      ]
     },
     "execution_count": 14,
     "metadata": {},
     "output_type": "execute_result"
    }
   ],
   "source": [
    "def arithmetic_list(r,a,n):\n",
    "    '''\n",
    "    in: common adding r, initial term , number of iteration n\n",
    "    type: q float, r float, n int\n",
    "    return: n-th terms of the arithmetic progression\n",
    "    rtype:float\n",
    "    '''\n",
    "\n",
    "    u = a\n",
    "\n",
    "    return [u + (r * i) for i in range(n)]\n",
    "\n",
    "arithmetic_list(2,3,10) "
   ]
  },
  {
   "cell_type": "markdown",
   "metadata": {},
   "source": [
    "On peut maintenant tracer les $100$ premiers termes de la suite.\n",
    "\n",
    "\n",
    "\n",
    "\n"
   ]
  },
  {
   "cell_type": "code",
   "execution_count": 16,
   "metadata": {},
   "outputs": [
    {
     "data": {
      "image/png": "[encoded data removed]",
      "text/plain": [
       "<Figure size 640x480 with 1 Axes>"
      ]
     },
     "metadata": {},
     "output_type": "display_data"
    }
   ],
   "source": [
    "n = 25\n",
    "rg = range(0, n)\n",
    "s1 = arithmetic_list(2,3,n) \n",
    "\n",
    "\n",
    "plt.title('arithmetic rabbits')\n",
    "plt.plot(rg, s1, 'ro', markersize=4)\n",
    "\n",
    "\n",
    "plt.show()\n",
    "\n"
   ]
  },
  {
   "cell_type": "markdown",
   "metadata": {},
   "source": [
    ">**question 3** Décrire tous les comportements possibles pour $u_n$ selon les choix de $a$ et $r$. Quels choix sont pertinents ici en terme de modélisation ?\n",
    "\n"
   ]
  },
  {
   "cell_type": "markdown",
   "metadata": {},
   "source": [
    "| behaviour of $u_n$ | $r<0$ | $r=0$ | $r>0$ |\n",
    "| :- | -: | :-: |---|\n",
    "| $a$ | variation, limite ... | a = 3 | a -> ∞\n"
   ]
  },
  {
   "cell_type": "markdown",
   "metadata": {},
   "source": [
    ">**question 4 (à faire à la fin):** \n",
    "écrire une fonction <tt> arithmetic_sum </tt> qui vérifie la formule donnant la somme d'une suite arithmétique entre les borne $k$ et $n$ :\n",
    "\n",
    "$$\\sum_{i=k}^n u_i  = \\frac{(u_n+u_k)(n-k +1)}{2}$$"
   ]
  },
  {
   "cell_type": "code",
   "execution_count": 32,
   "metadata": {},
   "outputs": [
    {
     "ename": "TypeError",
     "evalue": "'int' object is not callable",
     "output_type": "error",
     "traceback": [
      "\u001b[0;31m---------------------------------------------------------------------------\u001b[0m",
      "\u001b[0;31mTypeError\u001b[0m                                 Traceback (most recent call last)",
      "Cell \u001b[0;32mIn[32], line 13\u001b[0m\n\u001b[1;32m      2\u001b[0m \u001b[38;5;250m    \u001b[39m\u001b[38;5;124;03m'''\u001b[39;00m\n\u001b[1;32m      3\u001b[0m \u001b[38;5;124;03m    in: common adding r, initial term ,bounds k and  n\u001b[39;00m\n\u001b[1;32m      4\u001b[0m \u001b[38;5;124;03m    type: q float, r float, n int\u001b[39;00m\n\u001b[1;32m      5\u001b[0m \u001b[38;5;124;03m    return: checks if the formula is sound\u001b[39;00m\n\u001b[1;32m      6\u001b[0m \u001b[38;5;124;03m    rtype: bool\u001b[39;00m\n\u001b[1;32m      7\u001b[0m \u001b[38;5;124;03m    '''\u001b[39;00m\n\u001b[1;32m     10\u001b[0m     \u001b[38;5;28;01mreturn\u001b[39;00m \u001b[38;5;28msum\u001b[39m([a\u001b[38;5;241m+\u001b[39mr\u001b[38;5;241m*\u001b[39mi \u001b[38;5;28;01mfor\u001b[39;00m i \u001b[38;5;129;01min\u001b[39;00m \u001b[38;5;28mrange\u001b[39m(k,n\u001b[38;5;241m+\u001b[39m\u001b[38;5;241m1\u001b[39m)]) \u001b[38;5;241m==\u001b[39m ( ((((a \u001b[38;5;241m+\u001b[39m r) \u001b[38;5;241m*\u001b[39m n) \u001b[38;5;241m+\u001b[39m ((a \u001b[38;5;241m+\u001b[39m r) \u001b[38;5;241m*\u001b[39mk)) (n \u001b[38;5;241m-\u001b[39m k \u001b[38;5;241m+\u001b[39m \u001b[38;5;241m1\u001b[39m)) \u001b[38;5;241m/\u001b[39m\u001b[38;5;241m2\u001b[39m )\n\u001b[0;32m---> 13\u001b[0m \u001b[43marithmetic_sum\u001b[49m\u001b[43m(\u001b[49m\u001b[38;5;241;43m2\u001b[39;49m\u001b[43m,\u001b[49m\u001b[38;5;241;43m3\u001b[39;49m\u001b[43m,\u001b[49m\u001b[38;5;241;43m4\u001b[39;49m\u001b[43m,\u001b[49m\u001b[38;5;241;43m10\u001b[39;49m\u001b[43m)\u001b[49m \n",
      "Cell \u001b[0;32mIn[32], line 10\u001b[0m, in \u001b[0;36marithmetic_sum\u001b[0;34m(r, a, k, n)\u001b[0m\n\u001b[1;32m      1\u001b[0m \u001b[38;5;28;01mdef\u001b[39;00m \u001b[38;5;21marithmetic_sum\u001b[39m(r,a,k,n):\n\u001b[1;32m      2\u001b[0m \u001b[38;5;250m    \u001b[39m\u001b[38;5;124;03m'''\u001b[39;00m\n\u001b[1;32m      3\u001b[0m \u001b[38;5;124;03m    in: common adding r, initial term ,bounds k and  n\u001b[39;00m\n\u001b[1;32m      4\u001b[0m \u001b[38;5;124;03m    type: q float, r float, n int\u001b[39;00m\n\u001b[1;32m      5\u001b[0m \u001b[38;5;124;03m    return: checks if the formula is sound\u001b[39;00m\n\u001b[1;32m      6\u001b[0m \u001b[38;5;124;03m    rtype: bool\u001b[39;00m\n\u001b[1;32m      7\u001b[0m \u001b[38;5;124;03m    '''\u001b[39;00m\n\u001b[0;32m---> 10\u001b[0m     \u001b[38;5;28;01mreturn\u001b[39;00m \u001b[38;5;28msum\u001b[39m([a\u001b[38;5;241m+\u001b[39mr\u001b[38;5;241m*\u001b[39mi \u001b[38;5;28;01mfor\u001b[39;00m i \u001b[38;5;129;01min\u001b[39;00m \u001b[38;5;28mrange\u001b[39m(k,n\u001b[38;5;241m+\u001b[39m\u001b[38;5;241m1\u001b[39m)]) \u001b[38;5;241m==\u001b[39m ( (\u001b[43m(\u001b[49m\u001b[43m(\u001b[49m\u001b[43m(\u001b[49m\u001b[43ma\u001b[49m\u001b[43m \u001b[49m\u001b[38;5;241;43m+\u001b[39;49m\u001b[43m \u001b[49m\u001b[43mr\u001b[49m\u001b[43m)\u001b[49m\u001b[43m \u001b[49m\u001b[38;5;241;43m*\u001b[39;49m\u001b[43m \u001b[49m\u001b[43mn\u001b[49m\u001b[43m)\u001b[49m\u001b[43m \u001b[49m\u001b[38;5;241;43m+\u001b[39;49m\u001b[43m \u001b[49m\u001b[43m(\u001b[49m\u001b[43m(\u001b[49m\u001b[43ma\u001b[49m\u001b[43m \u001b[49m\u001b[38;5;241;43m+\u001b[39;49m\u001b[43m \u001b[49m\u001b[43mr\u001b[49m\u001b[43m)\u001b[49m\u001b[43m \u001b[49m\u001b[38;5;241;43m*\u001b[39;49m\u001b[43mk\u001b[49m\u001b[43m)\u001b[49m\u001b[43m)\u001b[49m\u001b[43m \u001b[49m\u001b[43m(\u001b[49m\u001b[43mn\u001b[49m\u001b[43m \u001b[49m\u001b[38;5;241;43m-\u001b[39;49m\u001b[43m \u001b[49m\u001b[43mk\u001b[49m\u001b[43m \u001b[49m\u001b[38;5;241;43m+\u001b[39;49m\u001b[43m \u001b[49m\u001b[38;5;241;43m1\u001b[39;49m\u001b[43m)\u001b[49m) \u001b[38;5;241m/\u001b[39m\u001b[38;5;241m2\u001b[39m )\n",
      "\u001b[0;31mTypeError\u001b[0m: 'int' object is not callable"
     ]
    }
   ],
   "source": [
    "def arithmetic_sum(r,a,k,n):\n",
    "    '''\n",
    "    in: common adding r, initial term ,bounds k and  n\n",
    "    type: q float, r float, n int\n",
    "    return: checks if the formula is sound\n",
    "    rtype: bool\n",
    "    '''\n",
    "\n",
    "    \n",
    "    return sum([a+r*i for i in range(k,n+1)]) == ( ((((a + r) * n) + ((a + r) *k)) (n - k + 1)) /2 )\n",
    "\n",
    "    \n",
    "arithmetic_sum(2,3,4,10) "
   ]
  },
  {
   "cell_type": "markdown",
   "metadata": {},
   "source": [
    "# 2: 1 couple of rabbits, 2 couples of rabbits, 4 couples of rabbits\n",
    "\n",
    "\n",
    "Une mathématicienne _bien mieux informée_ (mais qui n'a clairement pas souvent vu de vrais lapins) sait que les lapins ont des lapereaux qui peuvent eux-mêmes se reproduire. Elle propose donc une autre modélisation de la croissance de la population : la **suite géométrique** $u_0=a$ ; $u_{n+1}=qu_n$.\n",
    "\n",
    "_Cette modélisation simpliste est une théorie qui a réellement été proposée au XIXème siècle par Thomas R. Malthus, qui prédisait alors une  [explosion démographique](https://en.wikipedia.org/wiki/Malthusianism) et en tirait certaines conclusions très politiques_"
   ]
  },
  {
   "cell_type": "markdown",
   "metadata": {},
   "source": [
    ">**question 1:** Écrire une fonction <tt>geometric_rec</tt> qui calcule $u_n$ de manière recursive (c-à-d sans boucle).\n",
    "\n"
   ]
  },
  {
   "cell_type": "code",
   "execution_count": 6,
   "metadata": {},
   "outputs": [
    {
     "data": {
      "text/plain": [
       "352"
      ]
     },
     "execution_count": 6,
     "metadata": {},
     "output_type": "execute_result"
    }
   ],
   "source": [
    "def geometric_rec(q,a,n):\n",
    "    '''\n",
    "    in: common ratio q, scale factor a, number of iteration n\n",
    "    type: q float, a float, n int\n",
    "    return: n-th term of the geometric progression\n",
    "    rtype:float\n",
    "    '''\n",
    "    \n",
    "    if n==0:\n",
    "        return a\n",
    "    \n",
    "    else :\n",
    "        return geometric_rec(q,a,n-1) * q\n",
    "    \n",
    "geometric_rec(2,11,5)"
   ]
  },
  {
   "cell_type": "markdown",
   "metadata": {},
   "source": [
    "\n",
    ">**question 2:** Écrire une fonction <tt>geometric</tt> qui calcule $u_n$ de manière impérative (c-à-d avec une boucle).\n",
    ">\n",
    ">Donner une formule explicite pour $u_n$"
   ]
  },
  {
   "cell_type": "code",
   "execution_count": 5,
   "metadata": {},
   "outputs": [
    {
     "data": {
      "text/plain": [
       "352"
      ]
     },
     "execution_count": 5,
     "metadata": {},
     "output_type": "execute_result"
    }
   ],
   "source": [
    "def geometric(q,a,n):\n",
    "    '''\n",
    "    in: common ratio q, scale factor a, number of iteration n\n",
    "    type: q float, a float, n int\n",
    "    return: n-th term of the geometric progression\n",
    "    rtype:float\n",
    "    '''\n",
    "    \n",
    "    u=a\n",
    "\n",
    "    for i in range(n):\n",
    "        u = u * q\n",
    "\n",
    "    return u\n",
    "\n",
    "geometric(2,11,5)\n",
    "\n"
   ]
  },
  {
   "cell_type": "markdown",
   "metadata": {},
   "source": [
    "On peut maintenant tracer les $100$ premiers termes de la suite.\n",
    "\n",
    "Dans ce genre de situation, comme $u_n$ augmente très rapidement, il peut-être intéressant de tracer $\\log u_n$. On parle _d'échelle logarithmique_.\n",
    "\n",
    "Quelles sont vos observations ?\n",
    "\n"
   ]
  },
  {
   "cell_type": "code",
   "execution_count": 30,
   "metadata": {},
   "outputs": [
    {
     "data": {
      "image/png": "[encoded data removed]",
      "text/plain": [
       "<Figure size 640x480 with 1 Axes>"
      ]
     },
     "metadata": {},
     "output_type": "display_data"
    },
    {
     "data": {
      "image/png": "[encoded data removed]",
      "text/plain": [
       "<Figure size 640x480 with 1 Axes>"
      ]
     },
     "metadata": {},
     "output_type": "display_data"
    }
   ],
   "source": [
    "rg = range(0, 20)\n",
    "s1 = arithmetic_list(2,3,20)\n",
    "plt.title('geometric rabbits usual')\n",
    "plt.plot(rg, s1, 'rx', markersize=4)\n",
    "plt.show()\n",
    "\n",
    "\n",
    "plt.title('geometric rabbits log')\n",
    "plt.yscale('log')\n",
    "plt.plot(rg, s1, 'b+', markersize=4)\n",
    "plt.show()\n"
   ]
  },
  {
   "cell_type": "markdown",
   "metadata": {},
   "source": [
    ">**question 3**  Décrire tous les comportements possibles pour $u_n$ selon les choix de $a$ et $r$. Quels choix sont pertinents ici en terme de modélisation ?\n"
   ]
  },
  {
   "cell_type": "markdown",
   "metadata": {},
   "source": [
    "| behaviour of $u_n$ | $q<0$ | $q=0$ | $0<q<1$ |$q=1$ |$1<q$ |\n",
    "| :- | -: | :-: |---| :-: |---|\n",
    "| $a$ | variation, limite |0| -> ∞ |q | -> ∞\n"
   ]
  },
  {
   "cell_type": "markdown",
   "metadata": {},
   "source": [
    ">**question 4 (à faire à la fin):** \n",
    "écrire une fonction <tt> geometric_sum </tt> qui vérifie la formule donnant la somme d'une suite arithmétique entre les borne $k$ et $n$ :\n",
    ">\n",
    ">$$\\sum_{i=k}^n u_i  = u_k\\cdot\\frac{1-q^{n-k+1}}{1-q}$$\n",
    ">\n",
    ">Essayer la formule avec $a=1, q=.00002, k=10, n=30$. Qu'en pensez-vous ?"
   ]
  },
  {
   "cell_type": "code",
   "execution_count": 31,
   "metadata": {},
   "outputs": [
    {
     "data": {
      "text/plain": [
       "False"
      ]
     },
     "execution_count": 31,
     "metadata": {},
     "output_type": "execute_result"
    }
   ],
   "source": [
    "def geometric_sum(r,a,k,n):\n",
    "    '''\n",
    "    in: common adding r, initial term ,bounds k and  n\n",
    "    type: q float, r float, n int\n",
    "    return: checks if the formula is sound\n",
    "    rtype: bool\n",
    "    '''\n",
    "\n",
    "    \n",
    "    return sum([a*r**i for i in range(k,n+1)]) == (a*r**k)*(1-r**(n-k+1))/(1-r)\n",
    "\n",
    "geometric_sum(.00002,1,10,30) "
   ]
  },
  {
   "cell_type": "markdown",
   "metadata": {},
   "source": [
    "# 3: Naturalisme : retrouver les lapins\n",
    "\n",
    "\n",
    "on va terminer par écrire des fonctions permettant de déterminer les paramètres définissant une suite donnée."
   ]
  },
  {
   "cell_type": "markdown",
   "metadata": {},
   "source": [
    ">**question 1** \n",
    ">écrire une fonction prenant en entrée 2 termes $u_m,u_n$ d'une suite arithmétique, et qui retourne les paramètres de la suite.\n"
   ]
  },
  {
   "cell_type": "code",
   "execution_count": 2,
   "metadata": {},
   "outputs": [
    {
     "data": {
      "text/plain": [
       "(2.0, 1.0)"
      ]
     },
     "execution_count": 2,
     "metadata": {},
     "output_type": "execute_result"
    }
   ],
   "source": [
    "def arithmetic_param(m,n,um,un):\n",
    "    \n",
    "    r = (un-um)/(n-m)\n",
    "    u = um - r*m\n",
    "\n",
    "    return r,u\n",
    "\n",
    "arithmetic_param(1,5,3,11)"
   ]
  },
  {
   "cell_type": "markdown",
   "metadata": {},
   "source": [
    ">**question 2** \n",
    ">écrire une fonction prenant en entrée 2 termes $u_m,u_n$ d'une suite géométrique, et qui retourne les paramètres de la suite."
   ]
  },
  {
   "cell_type": "code",
   "execution_count": 7,
   "metadata": {},
   "outputs": [
    {
     "data": {
      "text/plain": [
       "(11.0, 2.0)"
      ]
     },
     "execution_count": 7,
     "metadata": {},
     "output_type": "execute_result"
    }
   ],
   "source": [
    "def geom_param(m,n,um,un):\n",
    "    \n",
    "    q = (un / um) ** (1 / (n - m))\n",
    "    u_0 = un / q**n\n",
    "    \n",
    "    return u_0, q\n",
    "\n",
    "geom_param(5,10,geometric_rec(2,11,5),geometric_rec(2,11,10))"
   ]
  },
  {
   "cell_type": "markdown",
   "metadata": {},
   "source": [
    ">**bonus** \n",
    ">écrire une fonction prenant en entrée 3 termes $u_{\\ell},u_m,u_n$ d'une suite dont on ignore si elle est arithmétique ou géométrique, et qui retourne la nature et les paramètres de la suite.\n"
   ]
  },
  {
   "cell_type": "code",
   "execution_count": 53,
   "metadata": {},
   "outputs": [
    {
     "data": {
      "text/plain": [
       "'error'"
      ]
     },
     "execution_count": 53,
     "metadata": {},
     "output_type": "execute_result"
    }
   ],
   "source": [
    "def ari_or_geo(l,m,n,ul,um,un):\n",
    "    \n",
    "    return 'type',-1,-1\n",
    "\n"
   ]
  },
  {
   "cell_type": "code",
   "execution_count": null,
   "metadata": {},
   "outputs": [],
   "source": []
  }
 ],
 "metadata": {
  "kernelspec": {
   "display_name": "Python 3",
   "language": "python",
   "name": "python3"
  },
  "language_info": {
   "codemirror_mode": {
    "name": "ipython",
    "version": 3
   },
   "file_extension": ".py",
   "mimetype": "text/x-python",
   "name": "python",
   "nbconvert_exporter": "python",
   "pygments_lexer": "ipython3",
   "version": "3.12.3"
  }
 },
 "nbformat": 4,
 "nbformat_minor": 4
}
