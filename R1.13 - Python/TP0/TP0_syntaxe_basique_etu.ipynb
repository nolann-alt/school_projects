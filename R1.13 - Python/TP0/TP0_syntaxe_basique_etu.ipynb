{
 "cells": [
  {
   "cell_type": "markdown",
   "metadata": {},
   "source": [
    "Pour le bon fonctionnement du TP, exécuter le code suivant au démarrage :"
   ]
  },
  {
   "cell_type": "code",
   "execution_count": 48,
   "metadata": {},
   "outputs": [
    {
     "data": {
      "application/javascript": "var els = document.querySelectorAll(\"input[type=radio]\");for(var i = 0, length = els.length; i < length; i++) {els[i].addEventListener('click', function(event) {if(this.classList.contains('ok') && this.name.substr(4) > 0){document.querySelector(\".reponse\"+this.name.substr(4)).innerHTML = \"Bonne réponse\";document.querySelector(\".reponse\"+this.name.substr(4)).style.color = \"green\";}else{document.querySelector(\".reponse\"+this.name.substr(4)).innerHTML = \"Mauvaise réponse\";document.querySelector(\".reponse\"+this.name.substr(4)).style.color = \"red\";}});}\n",
      "text/plain": [
       "<IPython.core.display.Javascript object>"
      ]
     },
     "metadata": {},
     "output_type": "display_data"
    }
   ],
   "source": [
    "%%javascript\n",
    "var els = document.querySelectorAll(\"input[type=radio]\");for(var i = 0, length = els.length; i < length; i++) {els[i].addEventListener('click', function(event) {if(this.classList.contains('ok') && this.name.substr(4) > 0){document.querySelector(\".reponse\"+this.name.substr(4)).innerHTML = \"Bonne réponse\";document.querySelector(\".reponse\"+this.name.substr(4)).style.color = \"green\";}else{document.querySelector(\".reponse\"+this.name.substr(4)).innerHTML = \"Mauvaise réponse\";document.querySelector(\".reponse\"+this.name.substr(4)).style.color = \"red\";}});}"
   ]
  },
  {
   "cell_type": "markdown",
   "metadata": {
    "id": "Us-mfjz3blCS"
   },
   "source": [
    "# <center> R1.13 introduction à Python <br> TP0 - Introduction au langage Python </center>\n",
    "<center> 2024/2025- Thibault Godin </center>\n",
    "<center> IUT de Vannes, BUT Informatique </center>"
   ]
  },
  {
   "cell_type": "markdown",
   "metadata": {
    "id": "Us-mfjz3blCS"
   },
   "source": [
    "Le but de ce TP est de vous fournir une introduction (très lacunaire) à la syntaxe Python.\n",
    "\n",
    "On verra comment manipuler les variables, faire des boucles et des tests conditionels, ainsi qu'une partie très importante dans le langage Python (et qui fait en partie sa force) : la gestion des `list`\n",
    "\n",
    "------------------\n",
    "\n",
    "## Hello\n",
    "\n",
    "\n",
    ">**_question 1_**<br>\n",
    "Écrire un <tt>Hello, jupyter!</tt> dans la case ci-dessous. <br>\n",
    "Executer la case avec `maj + enter`\n",
    "\n",
    "_aide : consulter le TD_"
   ]
  },
  {
   "cell_type": "code",
   "execution_count": 2,
   "metadata": {},
   "outputs": [
    {
     "name": "stdout",
     "output_type": "stream",
     "text": [
      "Hello, jupyter!\n"
     ]
    }
   ],
   "source": [
    "#TODO\n",
    "print(\"Hello, jupyter!\")"
   ]
  },
  {
   "cell_type": "markdown",
   "metadata": {
    "id": "ifXwWEWzblCW"
   },
   "source": [
    ">**_question 2_**<br>\n",
    "En vous inspirant du TD, executer le programme externe `hello.py`\n"
   ]
  },
  {
   "cell_type": "code",
   "execution_count": 3,
   "metadata": {
    "id": "4kvLs-68blCY"
   },
   "outputs": [
    {
     "name": "stdout",
     "output_type": "stream",
     "text": [
      "Hello, World!\n"
     ]
    }
   ],
   "source": [
    "#TODO\n",
    "exec(open(\"hello.py\").read())\n",
    "\n",
    "\n",
    "    "
   ]
  },
  {
   "cell_type": "markdown",
   "metadata": {
    "id": "NviEJw2soDi_"
   },
   "source": [
    "## Calculatrice, variables et fonctions\n",
    "\n",
    "Voici quelques commandes python dont vous pourrez avoir besoin par la suite :\n",
    "\n",
    "| | |\n",
    "|-|-|\n",
    "|`a*b`| Calcule le produit $a\\times b$ |\n",
    "| `x=2` | Affecte $2$ à la variable `x` (pas besoin de préciser le type en python)\n",
    "| `x==2` | Determine l'égalité entre la variable `x` et l'entier `2`\n",
    "| `type(x)` | retourne le type du contenu de la variable `x`\n",
    "\n",
    "\n",
    "_______\n",
    "\n",
    "### Types\n",
    "\n",
    "Il existe plusieurs **types** de données :\n",
    "* nombres entiers (**integer** - int)\n",
    "* nombres décimaux, dits *flottants* (**float**)\n",
    "* chaînes de caractères (**string** - str)\n",
    "* booléen (**boolean** - bool) : variables prenant seulement deux valeurs &rarr; Vrai (**True**) ou Faux (**False**)\n",
    "* listes (**list**), dictionnaires (**dictionnary**), objets (**object**) (on reviendra sur ces concepts plus tard)\n",
    "* ...\n",
    "\n",
    "\n",
    ">**_question 1_**<br>\n",
    "Créer trois variables <em>a</em>, <em>b</em> et <em>c</em> prenant les valeurs respectives 42, 15.6 et \"ceci est un texte\", puis vérifier le type de chacune avec la fonction `type(variable)`\n",
    "\n",
    "\n",
    "\n",
    "\n",
    "\n"
   ]
  },
  {
   "cell_type": "code",
   "execution_count": null,
   "metadata": {},
   "outputs": [
    {
     "name": "stdout",
     "output_type": "stream",
     "text": [
      "<class 'int'>\n",
      "<class 'tuple'>\n",
      "<class 'str'>\n"
     ]
    }
   ],
   "source": [
    "#TODO\n",
    "a = 42\n",
    "b = 15,6\n",
    "c = \"ceci est un texte\"\n",
    "\n",
    "print(type(a))\n",
    "print(type(b))\n",
    "print(type(c))\n",
    "\n",
    "\n"
   ]
  },
  {
   "cell_type": "code",
   "execution_count": 42,
   "metadata": {},
   "outputs": [],
   "source": [
    "#TODO\n"
   ]
  },
  {
   "cell_type": "markdown",
   "metadata": {},
   "source": [
    "Attention, contrairement à Java, Python \"devine\" le type des variables. C'est pratique, mais il faut tout de même faire attention."
   ]
  },
  {
   "cell_type": "markdown",
   "metadata": {},
   "source": [
    ">**_question 2_**<br>\n",
    "Créer trois variables <em>i</em>, <em>f</em> et <em> s </em> prenant les valeurs respectives 2, 2. et \"2\" puis tester l'égalité de ces variables\n",
    "\n",
    "\n"
   ]
  },
  {
   "cell_type": "code",
   "execution_count": 11,
   "metadata": {},
   "outputs": [
    {
     "name": "stdout",
     "output_type": "stream",
     "text": [
      "True\n",
      "False\n"
     ]
    }
   ],
   "source": [
    "#TODO\n",
    "i = 2\n",
    "f =2.\n",
    "s = \"2\"\n",
    "\n",
    "print(i == f)\n",
    "print(i == s)\n"
   ]
  },
  {
   "cell_type": "markdown",
   "metadata": {},
   "source": [
    ">**_question 3_**<br>\n",
    "Selon vous, sachant qu'on divise l'int `a` (valant 2) par l'entier 2, quel est le type de `a/2`  ? Vérifier votre réponse avec `type`\n",
    "\n",
    "\n",
    "<center>\n",
    "    <input type=\"radio\" name=\"test1\" class=\"ok\"/> float\n",
    "    <input type=\"radio\" name=\"test1\" /> int\n",
    "    <input type=\"radio\" name=\"test1\" /> bool\n",
    "</center>\n",
    "\n",
    "<div class=\"reponse1\"></div>"
   ]
  },
  {
   "cell_type": "code",
   "execution_count": 14,
   "metadata": {},
   "outputs": [
    {
     "name": "stdout",
     "output_type": "stream",
     "text": [
      "1.0\n",
      "<class 'float'>\n"
     ]
    }
   ],
   "source": [
    "#TODO\n",
    "a = 2\n",
    "a/2\n",
    "\n",
    "print(a/2)\n",
    "print(type(a/2))"
   ]
  },
  {
   "cell_type": "markdown",
   "metadata": {},
   "source": [
    "Jupyter offre une execution à la volée et une persistance des variables. C'est-à-dire que `a` reste définie dans les cellules que l'on executera après : "
   ]
  },
  {
   "cell_type": "code",
   "execution_count": 15,
   "metadata": {},
   "outputs": [
    {
     "name": "stdout",
     "output_type": "stream",
     "text": [
      "2\n"
     ]
    }
   ],
   "source": [
    "print(a)"
   ]
  },
  {
   "cell_type": "markdown",
   "metadata": {},
   "source": [
    "si l'on veut faire augmenter la valeur de `a` de 1, on écrira :"
   ]
  },
  {
   "cell_type": "code",
   "execution_count": 16,
   "metadata": {},
   "outputs": [
    {
     "name": "stdout",
     "output_type": "stream",
     "text": [
      "3\n"
     ]
    }
   ],
   "source": [
    "a = a + 1\n",
    "print(a)"
   ]
  },
  {
   "cell_type": "markdown",
   "metadata": {},
   "source": [
    ">**_question 4_**<br>\n",
    "Réexecuter la cellule contenant `print(a)`"
   ]
  },
  {
   "cell_type": "markdown",
   "metadata": {},
   "source": [
    "Il convient donc d'être un peu attentif et précautionneux.\n",
    "\n",
    "__________________"
   ]
  },
  {
   "cell_type": "markdown",
   "metadata": {},
   "source": [
    "On peut parfois mélanger les types : "
   ]
  },
  {
   "cell_type": "code",
   "execution_count": 17,
   "metadata": {},
   "outputs": [
    {
     "data": {
      "text/plain": [
       "'ceci est un textececi est un textececi est un texte'"
      ]
     },
     "execution_count": 17,
     "metadata": {},
     "output_type": "execute_result"
    }
   ],
   "source": [
    "c*a"
   ]
  },
  {
   "cell_type": "code",
   "execution_count": 18,
   "metadata": {},
   "outputs": [
    {
     "data": {
      "text/plain": [
       "'ceci est un textececi est un textececi est un texte'"
      ]
     },
     "execution_count": 18,
     "metadata": {},
     "output_type": "execute_result"
    }
   ],
   "source": [
    "a*c"
   ]
  },
  {
   "cell_type": "markdown",
   "metadata": {},
   "source": [
    "Parfois non :"
   ]
  },
  {
   "cell_type": "code",
   "execution_count": 19,
   "metadata": {},
   "outputs": [
    {
     "ename": "TypeError",
     "evalue": "unsupported operand type(s) for +: 'int' and 'str'",
     "output_type": "error",
     "traceback": [
      "\u001b[0;31m---------------------------------------------------------------------------\u001b[0m",
      "\u001b[0;31mTypeError\u001b[0m                                 Traceback (most recent call last)",
      "Cell \u001b[0;32mIn[19], line 1\u001b[0m\n\u001b[0;32m----> 1\u001b[0m \u001b[43ma\u001b[49m\u001b[38;5;241;43m+\u001b[39;49m\u001b[43mc\u001b[49m\n",
      "\u001b[0;31mTypeError\u001b[0m: unsupported operand type(s) for +: 'int' and 'str'"
     ]
    }
   ],
   "source": [
    "a+c"
   ]
  },
  {
   "cell_type": "code",
   "execution_count": 20,
   "metadata": {},
   "outputs": [
    {
     "ename": "TypeError",
     "evalue": "can't multiply sequence by non-int of type 'tuple'",
     "output_type": "error",
     "traceback": [
      "\u001b[0;31m---------------------------------------------------------------------------\u001b[0m",
      "\u001b[0;31mTypeError\u001b[0m                                 Traceback (most recent call last)",
      "Cell \u001b[0;32mIn[20], line 1\u001b[0m\n\u001b[0;32m----> 1\u001b[0m \u001b[43mc\u001b[49m\u001b[38;5;241;43m*\u001b[39;49m\u001b[43mb\u001b[49m\n",
      "\u001b[0;31mTypeError\u001b[0m: can't multiply sequence by non-int of type 'tuple'"
     ]
    }
   ],
   "source": [
    "c*b"
   ]
  },
  {
   "cell_type": "markdown",
   "metadata": {},
   "source": [
    "Et même quand les type sont cohérents, il faut être attentif (et ce n'est pas réservé à Python !)"
   ]
  },
  {
   "cell_type": "markdown",
   "metadata": {},
   "source": [
    ">**_question 5_**<br>\n",
    "Calculer, à la main puis avec Python, le résultat de $(7-3)\\times 1,2 - 3$"
   ]
  },
  {
   "cell_type": "code",
   "execution_count": null,
   "metadata": {},
   "outputs": [
    {
     "name": "stdout",
     "output_type": "stream",
     "text": [
      "1.7999999999999998\n"
     ]
    }
   ],
   "source": [
    "#TODO\n",
    "#7 - 3 = 4 *1.2 = 4.8 - 3 = 1.8\n",
    "\n",
    "print((7-3) *1.2 -3)\n"
   ]
  },
  {
   "cell_type": "code",
   "execution_count": null,
   "metadata": {},
   "outputs": [],
   "source": []
  },
  {
   "cell_type": "markdown",
   "metadata": {},
   "source": [
    "_____________________\n",
    "\n",
    "### Fonctions \n",
    "\n",
    "\n",
    "En Python, le mot clef introduisant une fonction est `def`, suivi des arguments puis `:`\n",
    "\n",
    "Le retour se fait via le mot clef `return`\n",
    "\n",
    "Dans ce langage, pas d'accolade, mais les indentations ont un sens ! Comme vous avez pris de bonnes habitudes en Java cela ne devrait rien changer : "
   ]
  },
  {
   "cell_type": "markdown",
   "metadata": {},
   "source": [
    ">**_question 1_**<br>\n",
    "Écrire un programme qui, étant donné un prix HT, calcule le prix avec une TVA de 20\\%"
   ]
  },
  {
   "cell_type": "code",
   "execution_count": 23,
   "metadata": {},
   "outputs": [
    {
     "data": {
      "text/plain": [
       "120.0"
      ]
     },
     "execution_count": 23,
     "metadata": {},
     "output_type": "execute_result"
    }
   ],
   "source": [
    "#TODO\n",
    "\n",
    "prix = 100\n",
    "\n",
    "def prixHT(prix) :\n",
    "    return prix * 1.2\n",
    "\n",
    "prixHT(prix)"
   ]
  },
  {
   "cell_type": "markdown",
   "metadata": {},
   "source": [
    "On l'utilisera peu, mais il est possible de demander des entrées utilisateur"
   ]
  },
  {
   "cell_type": "code",
   "execution_count": 24,
   "metadata": {
    "id": "sP-mXu66oOeO"
   },
   "outputs": [
    {
     "name": "stdout",
     "output_type": "stream",
     "text": [
      "Vous avez environ 17 ans.\n"
     ]
    }
   ],
   "source": [
    "annee = int (input(\"Quelle est votre année de naissance ? \"))\n",
    "print(\"Vous avez environ\", 2023 - annee, \"ans.\")"
   ]
  },
  {
   "cell_type": "markdown",
   "metadata": {},
   "source": [
    "Une variable créée par une fonction ne sera accessible que le temps de l'appel à la fonction, et uniquement par cette fonction. Par exemple : \n"
   ]
  },
  {
   "cell_type": "code",
   "execution_count": 25,
   "metadata": {},
   "outputs": [
    {
     "ename": "NameError",
     "evalue": "name 'aire' is not defined",
     "output_type": "error",
     "traceback": [
      "\u001b[0;31m---------------------------------------------------------------------------\u001b[0m",
      "\u001b[0;31mNameError\u001b[0m                                 Traceback (most recent call last)",
      "Cell \u001b[0;32mIn[25], line 8\u001b[0m\n\u001b[1;32m      3\u001b[0m     \u001b[38;5;28;01mreturn\u001b[39;00m aire\n\u001b[1;32m      6\u001b[0m test \u001b[38;5;241m=\u001b[39m aireCarre(\u001b[38;5;241m5.5\u001b[39m)\n\u001b[0;32m----> 8\u001b[0m \u001b[38;5;28mprint\u001b[39m(\u001b[43maire\u001b[49m)\n",
      "\u001b[0;31mNameError\u001b[0m: name 'aire' is not defined"
     ]
    }
   ],
   "source": [
    "def aireCarre(cote):\n",
    "    aire = cote**2\n",
    "    return aire\n",
    "\n",
    "\n",
    "test = aireCarre(5.5)\n",
    "\n",
    "print(aire)"
   ]
  },
  {
   "cell_type": "markdown",
   "metadata": {
    "id": "QlA3RWyHoq9u"
   },
   "source": [
    "## Boucles et conditions\n",
    "\n"
   ]
  },
  {
   "cell_type": "markdown",
   "metadata": {},
   "source": [
    "### Conditions et tests\n",
    "\n",
    "Les conditions sont souvent des comparaisons à l'aide de **comparateurs logiques** classiques :\n",
    "* **a == b** compare si a et b sont égaux\n",
    "* **a < b** compare si a est strictement plus petit que b\n",
    "* **a <= b** compare si a est plus petit ou égal à b\n",
    "* **\\>** et **>=** font la même chose pour \"plus grand que\"\n",
    "* on peut faire des encadrements, comme **a <= b < c**\n",
    "* on peut cumuler les conditions, ou vérifier au moins une condition parmi plusieurs avec les termes **and** et **or**"
   ]
  },
  {
   "cell_type": "code",
   "execution_count": 1,
   "metadata": {},
   "outputs": [
    {
     "name": "stdout",
     "output_type": "stream",
     "text": [
      "False\n",
      "True\n",
      "True\n"
     ]
    }
   ],
   "source": [
    "\n",
    "\n",
    "print(True and False)\n",
    "print(True or True)\n",
    "print(not False)\n"
   ]
  },
  {
   "cell_type": "code",
   "execution_count": 5,
   "metadata": {},
   "outputs": [
    {
     "name": "stdout",
     "output_type": "stream",
     "text": [
      "Well done!\n"
     ]
    }
   ],
   "source": [
    "# Exemple de variable :\n",
    "\n",
    "guess = int (input(\"Choisissez un chiffre \"))\n",
    "\n",
    "# Affichage conditionnel :\n",
    "if guess == 7:\n",
    "    print(\"Well done!\")\n",
    "else : \n",
    "    print(\"Raté\")"
   ]
  },
  {
   "cell_type": "markdown",
   "metadata": {},
   "source": [
    "Python propose, en plus des mots clefs `if` et `else` le `elif` qui permet de faire une test supplémentaire."
   ]
  },
  {
   "cell_type": "code",
   "execution_count": 6,
   "metadata": {},
   "outputs": [
    {
     "name": "stdout",
     "output_type": "stream",
     "text": [
      "statement1 and statement2 are False\n"
     ]
    }
   ],
   "source": [
    "\n",
    "\n",
    "statement1 = False\n",
    "statement2 = False\n",
    "\n",
    "if statement1:\n",
    "    print(\"statement1 is True\")\n",
    "elif statement2:\n",
    "    print(\"statement2 is True\")\n",
    "else:\n",
    "    print(\"statement1 and statement2 are False\")\n"
   ]
  },
  {
   "cell_type": "markdown",
   "metadata": {},
   "source": [
    ">**_question 1_**<br>\n",
    "Transformer la cellule précédente en intrusctions n'utilisant que les mots clefs  `if` et `else` et plus le `elif`"
   ]
  },
  {
   "cell_type": "code",
   "execution_count": 31,
   "metadata": {},
   "outputs": [
    {
     "name": "stdout",
     "output_type": "stream",
     "text": [
      "statement1 is False\n",
      "statement2 is False\n"
     ]
    }
   ],
   "source": [
    "#TODO\n",
    "statement1 = False\n",
    "statement2 = False\n",
    "\n",
    "if statement1:\n",
    "    print(\"statement1 is True\")\n",
    "\n",
    "else:\n",
    "    print(\"statement1 is False\")\n",
    "\n",
    "if statement2:\n",
    "    print(\"statement2 is True\")\n",
    "\n",
    "else:\n",
    "    print(\"statement2 is False\")\n"
   ]
  },
  {
   "cell_type": "markdown",
   "metadata": {},
   "source": [
    "### Boucle bornées\n",
    "\n",
    "En Python, l'équivalent du l'instruction Java \n",
    "`\n",
    "for (int i = 0; i < 5; i++) {\n",
    "  System.out.println(i);\n",
    "}\n",
    "`\n",
    "\n",
    "sera "
   ]
  },
  {
   "cell_type": "code",
   "execution_count": 32,
   "metadata": {
    "id": "_h0FVbQJouW1"
   },
   "outputs": [
    {
     "name": "stdout",
     "output_type": "stream",
     "text": [
      "0\n",
      "1\n",
      "2\n",
      "3\n",
      "4\n"
     ]
    }
   ],
   "source": [
    "\n",
    "for i in range(0,5,1) : \n",
    "    print(i)\n"
   ]
  },
  {
   "cell_type": "markdown",
   "metadata": {},
   "source": [
    ">**_question 1_**<br>\n",
    "Observer, comprendre et décrire le rôle des 3 différents paramètres dans le `range`"
   ]
  },
  {
   "cell_type": "markdown",
   "metadata": {},
   "source": [
    "_TODO_"
   ]
  },
  {
   "cell_type": "markdown",
   "metadata": {},
   "source": [
    ">**_question 2_**<br>\n",
    "Écrire une boucle printant les $n$ premiers carrés impairs ($n$ est un paramètre déclarer en début de cellule"
   ]
  },
  {
   "cell_type": "code",
   "execution_count": 12,
   "metadata": {},
   "outputs": [
    {
     "name": "stdout",
     "output_type": "stream",
     "text": [
      "1\n",
      "9\n"
     ]
    }
   ],
   "source": [
    "#TODO\n",
    "n = 5\n",
    "\n",
    "for i in range(1, n, 2):\n",
    "    print(i**2)\n",
    "\n"
   ]
  },
  {
   "cell_type": "markdown",
   "metadata": {},
   "source": [
    ">**_question 3_**<br>\n",
    "Écrire une fonction `puissance` prenant comme paramètres deux entiers $n$ et $k$ et revoyant $n^k$. Pensez à tester votre fonction !"
   ]
  },
  {
   "cell_type": "code",
   "execution_count": null,
   "metadata": {},
   "outputs": [
    {
     "data": {
      "text/plain": [
       "1024"
      ]
     },
     "execution_count": 78,
     "metadata": {},
     "output_type": "execute_result"
    }
   ],
   "source": [
    "#TODO\n"
   ]
  },
  {
   "cell_type": "markdown",
   "metadata": {},
   "source": [
    ">**_question 4_**<br>\n",
    "Écrire une fonction `harmonique` prennant en paramètre $n$ et calculant $H_n = \\sum_{k=1}^n \\frac{1}{k}$."
   ]
  },
  {
   "cell_type": "code",
   "execution_count": null,
   "metadata": {
    "id": "VDGRaDMOblCY"
   },
   "outputs": [
    {
     "data": {
      "text/plain": [
       "5.187377517639621"
      ]
     },
     "execution_count": 79,
     "metadata": {},
     "output_type": "execute_result"
    }
   ],
   "source": [
    "#TODO\n"
   ]
  },
  {
   "cell_type": "markdown",
   "metadata": {
    "id": "pbbNz1UHblCZ"
   },
   "source": [
    "___\n",
    "\n",
    "Les boucles `while` s'écrivent de manière peu surprenante :"
   ]
  },
  {
   "cell_type": "code",
   "execution_count": null,
   "metadata": {},
   "outputs": [
    {
     "name": "stdout",
     "output_type": "stream",
     "text": [
      "1\n",
      "2\n",
      "4\n",
      "8\n",
      "16\n"
     ]
    }
   ],
   "source": [
    "# Initialisation d'une variable\n",
    "resultat = 1\n",
    "\n",
    "# Boucle non bornée :\n",
    "while resultat < 20:        # Tant que la variable resultat est strictement inférieure à 20\n",
    "    print(resultat)         # On affiche sa valeur\n",
    "    resultat = resultat * 2 # On multiplie ensuite sa valeur par 2"
   ]
  },
  {
   "cell_type": "markdown",
   "metadata": {},
   "source": [
    ">**_question 5_**<br>\n",
    "Écrire une fonction `harmonique_max` prennant en paramètre $s$ et calculant le premier rang $n$ tel que $H_n \\geq s$.<br>\n",
    "À quel rang a-t-on $H_n \\geq 10 $ ?"
   ]
  },
  {
   "cell_type": "code",
   "execution_count": null,
   "metadata": {},
   "outputs": [
    {
     "data": {
      "text/plain": [
       "12367"
      ]
     },
     "execution_count": 81,
     "metadata": {},
     "output_type": "execute_result"
    }
   ],
   "source": [
    "#TODO\n"
   ]
  },
  {
   "cell_type": "markdown",
   "metadata": {
    "id": "527KeOWtlDS7"
   },
   "source": [
    "\n",
    "\n",
    "__________________\n",
    "\n",
    "## Lists\n",
    "\n",
    "Une bonne introduction est donné sur le [site officiel de python](https://docs.python.org/3/tutorial/introduction.html)\n",
    "\n",
    "Python permet de stocker des données en séries dans un objet appelé **liste**.\n",
    "Une liste est donc une série de données **indexées** : chaque élément de la liste est associé à un numéro (un **index**). La syntaxe pour déclarer une liste est la suivante :"
   ]
  },
  {
   "cell_type": "code",
   "execution_count": 13,
   "metadata": {
    "id": "VqzyUobHliC0"
   },
   "outputs": [
    {
     "name": "stdout",
     "output_type": "stream",
     "text": [
      "[1, 3, 5, 7, 9]\n"
     ]
    }
   ],
   "source": [
    "\n",
    "liste1 = [1,3,5,7,9]\n",
    "print(liste1)\n",
    "\n"
   ]
  },
  {
   "cell_type": "markdown",
   "metadata": {},
   "source": [
    "Si l'on veut accéder à un élément de la liste, on l'appelle grâce à son index.\n",
    "\n",
    "Le tout premier élément d'une liste a toujours l'index <b>0</b>.\n",
    "\n",
    "Ainsi, `liste1` a des index de 0 à 4.\n",
    "\n",
    "Pour accéder au troisième élément de `liste1` (qui est donc le nombre `5`), on se réfère à son index : 2.\n",
    "\n",
    "On fait donc la commande suivante :"
   ]
  },
  {
   "cell_type": "code",
   "execution_count": null,
   "metadata": {},
   "outputs": [
    {
     "data": {
      "text/plain": [
       "5"
      ]
     },
     "execution_count": 83,
     "metadata": {},
     "output_type": "execute_result"
    }
   ],
   "source": [
    "liste1[2]\n"
   ]
  },
  {
   "cell_type": "markdown",
   "metadata": {},
   "source": [
    " Une liste peut contenir différents types de variables : booléens, entiers, flottants, textes, voire même d'autres listes !\n",
    "\n",
    ">**_question 1_**<br>\n",
    "On donne : `listeTest = [6,-3,2.7,12,2,100,1,6,-1,5]`.\n",
    "<br>\n",
    "Que renvoie `listeTest[6]` ?\n",
    "\n",
    "<center>\n",
    "    <input type=\"radio\" name=\"test1\" />2\n",
    "    <input type=\"radio\" name=\"test1\" />100\n",
    "    <input type=\"radio\" name=\"test1\" class=\"ok\" />1\n",
    "    <input type=\"radio\" name=\"test1\" />6\n",
    "</center>\n",
    "\n",
    "<div class=\"reponse1\"></div>"
   ]
  },
  {
   "cell_type": "markdown",
   "metadata": {},
   "source": [
    ">**_question 2_**<br>\n",
    "Quel est l'index du 5<sup>ème</sup> élément d'une liste ?\n",
    "\n",
    "<center>\n",
    "    <input type=\"radio\" name=\"test3\" class=\"ok\" />4\n",
    "    <input type=\"radio\" name=\"test3\" />5\n",
    "    <input type=\"radio\" name=\"test3\" />6\n",
    "</center>\n",
    "\n",
    "<div class=\"reponse3\"></div>"
   ]
  },
  {
   "cell_type": "markdown",
   "metadata": {},
   "source": [
    ">**_question 3_**<br>\n",
    "On reprend la variable `listeTest` de l'exercice précédent. <br>\n",
    "Quel(s) index correspond à 6 ?\n",
    "\n",
    "<center>\n",
    "    <input type=\"radio\" name=\"test2\" />0\n",
    "    <input type=\"radio\" name=\"test2\" />100\n",
    "    <input type=\"radio\" name=\"test2\" />1 et 8\n",
    "    <input type=\"radio\" name=\"test2\" class=\"ok\" />0 et 7\n",
    "</center>\n",
    "\n",
    "<div class=\"reponse2\"></div>"
   ]
  },
  {
   "cell_type": "markdown",
   "metadata": {},
   "source": [
    "Avec `range` on a (presque) déjà vu un moyen de faire des liste :"
   ]
  },
  {
   "cell_type": "code",
   "execution_count": 14,
   "metadata": {},
   "outputs": [
    {
     "data": {
      "text/plain": [
       "range"
      ]
     },
     "execution_count": 14,
     "metadata": {},
     "output_type": "execute_result"
    }
   ],
   "source": [
    "range1 = range(7)      \n",
    "type(range1)"
   ]
  },
  {
   "cell_type": "code",
   "execution_count": 15,
   "metadata": {},
   "outputs": [
    {
     "data": {
      "text/plain": [
       "[0, 1, 2, 3, 4, 5, 6]"
      ]
     },
     "execution_count": 15,
     "metadata": {},
     "output_type": "execute_result"
    }
   ],
   "source": [
    "##on convertit le range en une liste\n",
    "\n",
    "list(range1)           "
   ]
  },
  {
   "cell_type": "code",
   "execution_count": 16,
   "metadata": {},
   "outputs": [
    {
     "data": {
      "text/plain": [
       "[4, 5, 6, 7, 8, 9]"
      ]
     },
     "execution_count": 16,
     "metadata": {},
     "output_type": "execute_result"
    }
   ],
   "source": [
    "range2 = range(4,10)   # Le pas (troisième paramètre) est facultatif.\n",
    "list(range2)    "
   ]
  },
  {
   "cell_type": "code",
   "execution_count": 17,
   "metadata": {},
   "outputs": [
    {
     "data": {
      "text/plain": [
       "[4, 6, 8, 10, 12, 14]"
      ]
     },
     "execution_count": 17,
     "metadata": {},
     "output_type": "execute_result"
    }
   ],
   "source": [
    "range3 = range(4,15,2) # Crée la liste des nombres de 4 (inclus) à 10 (exclus) en allant de 2 en 2\n",
    "                           # En réalité range ne fournit pas tout à fait une liste :\n",
    "list(range3)   "
   ]
  },
  {
   "cell_type": "markdown",
   "metadata": {},
   "source": [
    "La manipulation des listes se fait (entre autre) :\n",
    "\n",
    "- par indice, avec `l[i] = var`\n",
    "- en ajout, avec `l.append(val)`\n",
    "- par retrait, avec del l[i]\n",
    "\n"
   ]
  },
  {
   "cell_type": "code",
   "execution_count": 18,
   "metadata": {},
   "outputs": [
    {
     "name": "stdout",
     "output_type": "stream",
     "text": [
      "liste initiale [1, 3, 5, 7, 9]\n",
      "changement à l'indice 2 [1, 3, 100, 7, 9]\n"
     ]
    }
   ],
   "source": [
    "liste1 = [1,3,5,7,9]\n",
    "\n",
    "print(\"liste initiale\", liste1)\n",
    "\n",
    "liste1[2] = 100\n",
    "\n",
    "print(\"changement à l'indice 2\", liste1)"
   ]
  },
  {
   "cell_type": "code",
   "execution_count": null,
   "metadata": {},
   "outputs": [
    {
     "name": "stdout",
     "output_type": "stream",
     "text": [
      "liste initiale [1, 3, 5, 7, 9]\n",
      "ajout [1, 3, 5, 7, 9, 100]\n"
     ]
    }
   ],
   "source": [
    "liste1 = [1,3,5,7,9]\n",
    "\n",
    "print(\"liste initiale\", liste1)\n",
    "\n",
    "liste1.append(100)\n",
    "\n",
    "print(\"ajout\", liste1)\n",
    "\n",
    "\n"
   ]
  },
  {
   "cell_type": "markdown",
   "metadata": {},
   "source": [
    ">**_question 4_**<br>\n",
    "En vous reportant à la doc, expliquer ce que fait `.insert`"
   ]
  },
  {
   "cell_type": "code",
   "execution_count": null,
   "metadata": {},
   "outputs": [
    {
     "name": "stdout",
     "output_type": "stream",
     "text": [
      "ajout [1, 3, -500, 5, 7, 9, 100]\n"
     ]
    }
   ],
   "source": [
    "#TODO\n"
   ]
  },
  {
   "cell_type": "code",
   "execution_count": 19,
   "metadata": {},
   "outputs": [
    {
     "name": "stdout",
     "output_type": "stream",
     "text": [
      "liste initiale [1, 3, 5, 7, 9]\n",
      "suppression [3, 5, 7, 9]\n",
      "suppression [3, 5, 7]\n"
     ]
    }
   ],
   "source": [
    "liste1 = [1,3,5,7,9]\n",
    "\n",
    "print(\"liste initiale\", liste1)\n",
    "\n",
    "del liste1[0]\n",
    "\n",
    "print(\"suppression\", liste1)\n",
    "\n",
    "del liste1[3]\n",
    "\n",
    "print(\"suppression\", liste1)\n"
   ]
  },
  {
   "cell_type": "markdown",
   "metadata": {},
   "source": [
    ">**_question 6_**<br>\n",
    "Écrire une fonction qui renvoie la liste des carrés des $n$ premier nombres"
   ]
  },
  {
   "cell_type": "code",
   "execution_count": null,
   "metadata": {},
   "outputs": [
    {
     "name": "stdout",
     "output_type": "stream",
     "text": [
      "[0, 1, 4, 9, 16, 25]\n"
     ]
    }
   ],
   "source": [
    "#TODO\n"
   ]
  },
  {
   "cell_type": "markdown",
   "metadata": {},
   "source": [
    "Un paramètre important d'une liste est sa longueur. On y accède par `len(l)`"
   ]
  },
  {
   "cell_type": "code",
   "execution_count": 20,
   "metadata": {},
   "outputs": [
    {
     "data": {
      "text/plain": [
       "3"
      ]
     },
     "execution_count": 20,
     "metadata": {},
     "output_type": "execute_result"
    }
   ],
   "source": [
    "len(liste1)"
   ]
  },
  {
   "cell_type": "markdown",
   "metadata": {},
   "source": [
    "### For et list\n",
    "\n",
    "la boucle `for` n'est pas forcer de travailler sur une `range` : il peut rendre n'importe quelle liste (et même des choses plus complexes."
   ]
  },
  {
   "cell_type": "code",
   "execution_count": 21,
   "metadata": {},
   "outputs": [
    {
     "name": "stdout",
     "output_type": "stream",
     "text": [
      "1\n",
      "-50.4\n",
      "un for sur une liste\n"
     ]
    }
   ],
   "source": [
    "\n",
    "\n",
    "for x in [1, -50.4, \"un for sur une liste\"]:\n",
    "    print(x)\n",
    "\n"
   ]
  },
  {
   "cell_type": "code",
   "execution_count": 22,
   "metadata": {},
   "outputs": [
    {
     "name": "stdout",
     "output_type": "stream",
     "text": [
      "Into à Python BUT1 Vannes \n"
     ]
    }
   ],
   "source": [
    "sentence = \"\"\n",
    "for word in [\"Into\",\"à\",\"Python\",\"BUT1\", \"Vannes\"]:\n",
    "    sentence = sentence + word + \" \"\n",
    "print(sentence)"
   ]
  },
  {
   "cell_type": "markdown",
   "metadata": {},
   "source": [
    "Un outil parfois utile et souvent oublié lié à ces for sur listes est `enumerate` :\n"
   ]
  },
  {
   "cell_type": "code",
   "execution_count": 23,
   "metadata": {},
   "outputs": [
    {
     "name": "stdout",
     "output_type": "stream",
     "text": [
      "0 -3\n",
      "1 -2\n",
      "2 -1\n",
      "3 0\n",
      "4 1\n",
      "5 2\n",
      "0 Into\n",
      "1 à\n",
      "2 Python\n",
      "3 BUT1\n",
      "4 Vannes\n"
     ]
    }
   ],
   "source": [
    "\n",
    "\n",
    "for idx, x in enumerate(range(-3,3)):\n",
    "    print(idx, x)\n",
    "\n",
    "for idx, x in enumerate([\"Into\",\"à\",\"Python\",\"BUT1\", \"Vannes\"]):\n",
    "    print(idx, x)"
   ]
  },
  {
   "cell_type": "markdown",
   "metadata": {},
   "source": [
    "###  Slicing :\n",
    "\n",
    "On a vu que qu'on pouvait acceder aux éléments d'une liste par son indice avec `l[i]`.\n",
    "\n",
    "Python permet de faire des choses un peu plus complexes très facilement :\n",
    "\n",
    ">**_question 1_**<br>\n",
    "Observer et expliquer ce que font :\n",
    "\n",
    "- `l[-1]`\n",
    "- `l[-4]`\n",
    "- `l[2:4]`\n",
    "- `l[:5]`\n",
    "- `l[3:]`\n",
    "- `l[2:-3]`\n",
    "- `l[2::3]`\n",
    "\n",
    "\n",
    "\n"
   ]
  },
  {
   "cell_type": "code",
   "execution_count": null,
   "metadata": {},
   "outputs": [
    {
     "name": "stdout",
     "output_type": "stream",
     "text": [
      "8     2     [5, 7]     [1, 3, 5, 7, 9]     [7, 9, 2, 4, 6, 8]     [5, 7, 9, 2]     [5, 2, 8]\n"
     ]
    }
   ],
   "source": [
    "#TODO\n"
   ]
  },
  {
   "cell_type": "markdown",
   "metadata": {},
   "source": [
    "\n",
    "\n",
    "### Compréhensions de listes\n",
    "\n",
    "\n",
    "Une autre fonctionalité complexe applicable aux liste est la compréhension. C'est un vaste sujet, que les spécialiste du code-golf connaisse bien mais on va se contenter de deux exemples et d'une question."
   ]
  },
  {
   "cell_type": "markdown",
   "metadata": {},
   "source": [
    ">**_question 1_**<br>\n",
    "Observer et expliquer ce que font les cellules suivantes :\n"
   ]
  },
  {
   "cell_type": "code",
   "execution_count": 24,
   "metadata": {},
   "outputs": [],
   "source": [
    "#comprehension de liste\n",
    "l1 = [0,1,3,6,10,15,21,]\n",
    "l2 = [0,1,1,2,3,5,8,13,21]\n",
    "listdiff = [l2[i] - l1[i] for i in range(4)]"
   ]
  },
  {
   "cell_type": "code",
   "execution_count": 25,
   "metadata": {},
   "outputs": [
    {
     "ename": "NameError",
     "evalue": "name 'TTC' is not defined",
     "output_type": "error",
     "traceback": [
      "\u001b[0;31m---------------------------------------------------------------------------\u001b[0m",
      "\u001b[0;31mNameError\u001b[0m                                 Traceback (most recent call last)",
      "Cell \u001b[0;32mIn[25], line 3\u001b[0m\n\u001b[1;32m      1\u001b[0m prix \u001b[38;5;241m=\u001b[39m [\u001b[38;5;241m20\u001b[39m,\u001b[38;5;241m100\u001b[39m,\u001b[38;5;241m25\u001b[39m,\u001b[38;5;241m42\u001b[39m]\n\u001b[0;32m----> 3\u001b[0m prix_TTC\u001b[38;5;241m=\u001b[39m[\u001b[43mTTC\u001b[49m(pr) \u001b[38;5;28;01mfor\u001b[39;00m pr \u001b[38;5;129;01min\u001b[39;00m prix]\n\u001b[1;32m      5\u001b[0m \u001b[38;5;66;03m##\u001b[39;00m\n\u001b[1;32m      6\u001b[0m \u001b[38;5;28mprint\u001b[39m(prix_TTC)\n",
      "\u001b[0;31mNameError\u001b[0m: name 'TTC' is not defined"
     ]
    }
   ],
   "source": [
    "prix = [20,100,25,42]\n",
    "\n",
    "prix_TTC=[TTC(pr) for pr in prix]\n",
    "\n",
    "##\n",
    "print(prix_TTC)\n",
    "\n"
   ]
  },
  {
   "cell_type": "markdown",
   "metadata": {},
   "source": [
    ">**_question 2_**<br>\n",
    "En utlisant une liste en comprehension, écrire la liste des carrés des $n$ premier nombres\n",
    "\n"
   ]
  },
  {
   "cell_type": "code",
   "execution_count": null,
   "metadata": {},
   "outputs": [
    {
     "data": {
      "text/plain": [
       "[0, 1, 4, 9, 16, 25, 36, 49, 64, 81]"
      ]
     },
     "execution_count": 115,
     "metadata": {},
     "output_type": "execute_result"
    }
   ],
   "source": [
    "#TODO\n"
   ]
  },
  {
   "cell_type": "markdown",
   "metadata": {
    "id": "nYnXZD4Bm28A"
   },
   "source": [
    "## Pour finir\n",
    "\n",
    ">**_question -1_**<br>\n",
    "\n",
    "\n",
    "Écrire une fonction **minMaxMoy()** qui reçoit une liste d'entiers et qui renvoie le minimum, le maximum et la moyenne de cette liste.  \n",
    "\n",
    "On vérifiera notre fonction sur : $[10, 18, 14, 20, 12, 16]$.\n",
    "\n"
   ]
  },
  {
   "cell_type": "code",
   "execution_count": null,
   "metadata": {
    "id": "HTLHXQGipxoh"
   },
   "outputs": [
    {
     "name": "stdout",
     "output_type": "stream",
     "text": [
      "[10, 20, 15.0]\n",
      "10 20 15.0\n"
     ]
    }
   ],
   "source": [
    "#TODO\n"
   ]
  },
  {
   "cell_type": "markdown",
   "metadata": {},
   "source": [
    "_____________\n",
    "\n",
    "## Bonus : \tSuos Cultores Scientia Coronat\n",
    "\n",
    ">**_Bonus_**<br>\n",
    "Écrire une fonction `Syracuse`retournant la suite de Syracuse vue en Java\n"
   ]
  },
  {
   "cell_type": "code",
   "execution_count": null,
   "metadata": {},
   "outputs": [],
   "source": [
    "#TODO\n"
   ]
  },
  {
   "cell_type": "code",
   "execution_count": null,
   "metadata": {},
   "outputs": [
    {
     "data": {
      "image/png": "[encoded data removed]",
      "text/plain": [
       "<Figure size 864x864 with 1 Axes>"
      ]
     },
     "metadata": {
      "needs_background": "light"
     },
     "output_type": "display_data"
    }
   ],
   "source": [
    "#TODO\n"
   ]
  },
  {
   "cell_type": "markdown",
   "metadata": {},
   "source": [
    "\n",
    ">**_lagniappe : bonus du bonus_**<br>\n",
    "implémenter les fonctions permettant d'obtenir les indicateurs suivants : <br>\n",
    "- le temps de vol :  plus petit indice n tel que $u_n = 1$.\n",
    "- le temps de vol en altitude :  petit indice n tel que $u_n < u_0$.\n",
    "- l'altitude maximale : c'est la valeur maximale de la suite.\n",
    "<br>\n",
    "Implémenter une fonction optimisée qui calculs toutes les suites de Syracuses ayant comme élément initial $n<N$ et de gardant en mémoire les nombre déjà rencontrés (dans l'idéal, utiliser un dictionaire). \n",
    "Représenter l'arbre correspondant\n"
   ]
  },
  {
   "cell_type": "code",
   "execution_count": null,
   "metadata": {},
   "outputs": [],
   "source": [
    "#TODO\n"
   ]
  }
 ],
 "metadata": {
  "colab": {
   "name": "TP_bonus_guidé.ipynb",
   "provenance": []
  },
  "kernelspec": {
   "display_name": "Python 3",
   "language": "python",
   "name": "python3"
  },
  "language_info": {
   "codemirror_mode": {
    "name": "ipython",
    "version": 3
   },
   "file_extension": ".py",
   "mimetype": "text/x-python",
   "name": "python",
   "nbconvert_exporter": "python",
   "pygments_lexer": "ipython3",
   "version": "3.12.3"
  }
 },
 "nbformat": 4,
 "nbformat_minor": 1
}
