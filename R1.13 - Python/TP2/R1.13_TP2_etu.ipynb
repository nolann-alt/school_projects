{
 "cells": [
  {
   "cell_type": "markdown",
   "id": "58983537",
   "metadata": {},
   "source": [
    "# <center> R1.13 introduction à Python <br> TP2 - Matrice et Numpy : R1.07 en python </center>\n",
    "<center> 2023/2024 - Thibault Godin </center>\n",
    "<center> IUT de Vannes, BUT Informatique </center>\n",
    "\n",
    "***\n",
    "\n",
    "Le but principal de ce TP est de reprendre des notions vues en  R1.07 et en particulier le produit matriciel (et le pivot de Gauss pour les plus rapides.\n",
    "\n",
    "C'est une bonne occasion de manipuler les tableaux 2D, ce qui arrive très souvent (images, graphes, données ...)"
   ]
  },
  {
   "cell_type": "code",
   "execution_count": 1,
   "id": "86840ba1",
   "metadata": {},
   "outputs": [],
   "source": [
    "import numpy as np\n",
    "\n",
    "\n",
    "\n",
    "import time\n",
    "import random\n",
    "import matplotlib.pyplot as plt"
   ]
  },
  {
   "cell_type": "markdown",
   "id": "4f081dc2",
   "metadata": {},
   "source": [
    "\n",
    "# Calcul matriciel en python\n",
    "\n",
    "\n",
    "\n",
    "Voici quelques commandes python et numpy dont vous pourrez avoir besoin par la suite :\n",
    "\n",
    "| | |\n",
    "|-|-|\n",
    "|`a*b`| Calcule le produit $a\\times b$ |\n",
    "| `a**b` | Calcule $a^b$ |\n",
    "| `x=2` | Affecte $2$ à la variable `x` \n",
    "|`np.array([1, 2, 3])`| Définit un vecteur 1D |\n",
    "| `np.array([[1, 2, 3], [4, 5, 6]])` | Définit une matrice 2D dans $\\mathcal{M}_{2,3}(\\mathbb{R})$ |\n",
    "| `np.array([[1, 2, 3], [4, 5, 6]],int)` | Définit une matrice 2D dans $\\mathcal{M}_{2,3}(\\mathbb{Z})$ |\n",
    "| `x[2]` | Renvoie le 3e coefficient du vecteur 1D `x` |\n",
    "| `A.T` | Transpose la matrice `A` |\n",
    "| `A@x` ou `A@B` | Calcule le produit matriciel entre `A` et `x` (ou `A` et `B`) |\n",
    "| `x + 2` | Ajoute 2 à tous les coefficients du vecteur `x` |\n",
    "| `np.ones(3)`, ou `np.zeros(3)` | Définit un vecteur 1D rempli de 1, ou 0|\n",
    "| `np.ones((2,3))`, ou `np.zeros((2,3))` | Définit une matrice 2D dans $\\mathcal{M}_{2,3}(\\mathbb{R})$ remplie de 1, ou 0 |\n",
    "| `np.full((2,3),4)` | Définit une matrice 2D dans $\\mathcal{M}_{2,3}(\\mathbb{R})$ remplie de 4 |\n",
    "| `A.shape` | Renvoie les dimensions de la matrice `A` |\n",
    "| `A[2,0]` | Renvoie le coefficient de la 3e ligne, 1ère colonne de la matrice `A` |\n",
    "| `A[2,:]` (ou `A[:,2]` ) | Renvoie la 3e ligne (ou colonne) de la matrice `A` (comme vecteur 1D) |\n",
    "| `A[:, :11]` | Renvoie les 11 premières colonnes de la matrice `A` |\n",
    "| `np.abs(x)` | Applique la valeur absolue à tous les coefficients du vecteur `x` |\n",
    "\n",
    "\n",
    "\n",
    "\n",
    "Dans 99% des cas à l'IUT de Vannes (et dans une grande majorité des cas en général) le concept mathématique \"matrice\" se traduit par \"numpy array\" en python. Ce sera le cas pour tout le TP\n",
    "\n",
    "_attention : les np.matrix existent mais sont obsolettes et dépréciées. Il ne faut donc pas les utiliser. On les remplace quasi sans changement par np.array dans la quasitotalité des cas_"
   ]
  },
  {
   "cell_type": "markdown",
   "id": "01ae9e32",
   "metadata": {},
   "source": [
    "\n",
    "## Déclaration et accès\n",
    "\n",
    "\n",
    ">**_question 1_**<br>\n",
    "En vous inspirant du tableau ci dessous, créer les matrices  (`numpy array`) :\n",
    "$$A = \\begin{pmatrix} 1 & 0 & -5 \\\\ 2 & -4 & 6  \\end{pmatrix}\\qquad B = \\begin{pmatrix} -2 & -3 & 4 \\\\ 1 & -4 & -5 \\end{pmatrix} \\qquad C = \\begin{pmatrix} 1 & 0 \\\\ -1 & 2 \\\\ 2 & 2 \\end{pmatrix}$$\n",
    "En utilisant `shape`, determiner les tailles. Remarquer que `len` apporte moins d'information."
   ]
  },
  {
   "cell_type": "code",
   "execution_count": 2,
   "id": "3ba95a27",
   "metadata": {},
   "outputs": [
    {
     "name": "stdout",
     "output_type": "stream",
     "text": [
      "(2, 3)\n",
      "(2, 3)\n",
      "(3, 2)\n"
     ]
    }
   ],
   "source": [
    "A = np.array([[1, 0, -5], [2, -4, 6]], int)\n",
    "B = np.array([[-2, -3, 4], [1, -4, -5]], int)\n",
    "C = np.array([[1, 0], [-1, 2], [2, 2]], int)\n",
    "\n",
    "print(A.shape)\n",
    "print(B.shape)\n",
    "print(C.shape)"
   ]
  },
  {
   "cell_type": "markdown",
   "id": "2c699355",
   "metadata": {},
   "source": [
    ">**_question 2_**<br>\n",
    "Calculer $2A -3B$"
   ]
  },
  {
   "cell_type": "code",
   "execution_count": 3,
   "id": "bbd5cb18",
   "metadata": {},
   "outputs": [
    {
     "name": "stdout",
     "output_type": "stream",
     "text": [
      "[[  8   9 -22]\n",
      " [  1   4  27]]\n"
     ]
    }
   ],
   "source": [
    "print(2*A - 3*B)"
   ]
  },
  {
   "cell_type": "markdown",
   "id": "24a69982",
   "metadata": {},
   "source": [
    ">**_question 3_** **Slicing 2D**<br>\n",
    "Soit la matrice $S$ donné ci-dessous.<br>\n",
    "\\begin{pmatrix}\n",
    "  0 & 1 & 2 & 3 & 4 & 5\\\\\n",
    "  6 & 7 & 8 & 9 & 10 & 11\\\\\n",
    "  12 & 13 & 14 & 15 & 16 & 17\\\\\n",
    "  18 & 19 & 20 & 21 & 22 & 23\\\\\n",
    "  24 & 25 & 26 & 27 & 28 & 29\\\\\n",
    "  30 & 31 & 32 & 33 & 34 & 35\\\\\n",
    "\\end{pmatrix}\n",
    "Renvoyer\n",
    "- le coefficient $S_{0,1}$\n",
    "- la première ligne\n",
    "- la deuxième colonne\n",
    "- les coefficients en ligne paire de la 3ème colonne\n"
   ]
  },
  {
   "cell_type": "code",
   "execution_count": 4,
   "id": "cae96b09",
   "metadata": {},
   "outputs": [
    {
     "name": "stdout",
     "output_type": "stream",
     "text": [
      "[[ 0  1  2  3  4  5]\n",
      " [ 6  7  8  9 10 11]\n",
      " [12 13 14 15 16 17]\n",
      " [18 19 20 21 22 23]\n",
      " [24 25 26 27 28 29]\n",
      " [30 31 32 33 34 35]]\n",
      "1\n",
      "[0 1 2 3 4 5]\n",
      "[ 1  7 13 19 25 31]\n",
      "2\n",
      "14\n",
      "26\n"
     ]
    }
   ],
   "source": [
    "S = np.arange(36)\n",
    "S = S.reshape((6, 6))\n",
    "print(S)\n",
    "\n",
    "print(S[0, 1])\n",
    "print(S[0,:])\n",
    "print(S[:,1])\n",
    "\n",
    "for i in range(6):\n",
    "    if i % 2 == 0:\n",
    "        print(S[i, 2])\n"
   ]
  },
  {
   "cell_type": "markdown",
   "id": "f1e04aa8",
   "metadata": {},
   "source": [
    ">**_question 4_** **Masque**<br>\n",
    "Comment interprétez vous le résultat de `S<3` ? <br>\n",
    "Que ce passe-t-il dans le code suivant ?\n"
   ]
  },
  {
   "cell_type": "code",
   "execution_count": 5,
   "id": "d30b3ecd",
   "metadata": {},
   "outputs": [
    {
     "name": "stdout",
     "output_type": "stream",
     "text": [
      "[[ True  True  True False False False]\n",
      " [False False False False False False]\n",
      " [False False False False False False]\n",
      " [False False False False False False]\n",
      " [False False False False False False]\n",
      " [False False False False False False]]\n",
      "ce sont les valeurs de S qui sont plus petites que 3\n"
     ]
    }
   ],
   "source": [
    "print(S<3)\n",
    "\n",
    "print(\"ce sont les valeurs de S qui sont plus petites que 3\")"
   ]
  },
  {
   "cell_type": "markdown",
   "id": "cfe5147d",
   "metadata": {},
   "source": [
    ">**_question 4b_** **masque, bonus**<br>\n",
    "Renvoyer la matrice des coeficients de $S$ tels que la somme des indices est paire\n",
    "On pourra utiliser `np.indices`"
   ]
  },
  {
   "cell_type": "code",
   "execution_count": null,
   "id": "e858414f",
   "metadata": {},
   "outputs": [],
   "source": [
    "\n"
   ]
  },
  {
   "cell_type": "markdown",
   "id": "7201c8f9",
   "metadata": {},
   "source": [
    "## Opérations sur les matrices\n",
    "\n",
    "\n",
    ">**_question 1_**<br>\n",
    "Créer les matrices  (`numpy array`) :\n",
    "\n",
    "$$\n",
    "A = \\begin{pmatrix}\n",
    "  1 & 0 & 0\\\\\n",
    "  0 & 1 & 1\\\\\n",
    "  3 & 1 & 1\\\\\n",
    "\\end{pmatrix} \\qquad B = \\begin{pmatrix}\n",
    "  1 & 1 & 1\\\\\n",
    "  0 & 1 & 0\\\\\n",
    "  1 & 0 & 0\\\\\n",
    "\\end{pmatrix}\n",
    "\\qquad C =\n",
    "\\begin{pmatrix}\n",
    "  1 & 1 & 1\\\\\n",
    "  1 & 2 & 1\\\\\n",
    "  0 & -1 & -1\\\\\n",
    "\\end{pmatrix}\n",
    "$$\n",
    "Calculer `A*B`. Est-ce l'opération vue en R1.07 ?\n",
    "\n"
   ]
  },
  {
   "cell_type": "code",
   "execution_count": 6,
   "id": "82a06fbf",
   "metadata": {},
   "outputs": [
    {
     "name": "stdout",
     "output_type": "stream",
     "text": [
      "(3, 3)\n",
      "(3, 3)\n",
      "(3, 3)\n"
     ]
    },
    {
     "data": {
      "text/plain": [
       "array([[1, 0, 0],\n",
       "       [0, 1, 0],\n",
       "       [3, 0, 0]])"
      ]
     },
     "execution_count": 6,
     "metadata": {},
     "output_type": "execute_result"
    }
   ],
   "source": [
    "A = np.array([[1, 0, 0], [0, 1, 1], [3, 1, 1]], int)\n",
    "B = np.array([[1, 1, 1], [0, 1, 0], [1, 0, 0]], int)\n",
    "C = np.array([[1, 1, 1], [1, 2, 1], [0, -1, -1]], int)\n",
    "\n",
    "print(A.shape)\n",
    "print(B.shape)\n",
    "print(C.shape)\n",
    "\n",
    "np.multiply(A, B)"
   ]
  },
  {
   "cell_type": "markdown",
   "id": "0c674f8d",
   "metadata": {},
   "source": [
    ">**_question 2_**<br>\n",
    "Calculer $AB$ et $AC$ (en utilisant `@` ou `np.dot`)"
   ]
  },
  {
   "cell_type": "code",
   "execution_count": 7,
   "id": "b150f165",
   "metadata": {},
   "outputs": [
    {
     "name": "stdout",
     "output_type": "stream",
     "text": [
      "[[1 1 1]\n",
      " [1 1 0]\n",
      " [4 4 3]]\n",
      "[[1 1 1]\n",
      " [1 1 0]\n",
      " [4 4 3]]\n"
     ]
    }
   ],
   "source": [
    "print(A@B)\n",
    "print(A@C)"
   ]
  },
  {
   "cell_type": "markdown",
   "id": "f57f48be",
   "metadata": {},
   "source": [
    ">**_question 3_**<br>\n",
    "Vérifier avec python que $AB = AC$. <br>\n",
    "En déduire que $A$ n’est pas inversible."
   ]
  },
  {
   "cell_type": "code",
   "execution_count": 8,
   "id": "e7737ead",
   "metadata": {},
   "outputs": [
    {
     "name": "stdout",
     "output_type": "stream",
     "text": [
      "[[ True  True  True]\n",
      " [ True  True  True]\n",
      " [ True  True  True]]\n",
      "AB * A^-1 = AC * A^-1 <=> B = C or B != C donc A n'est pas inversible\n"
     ]
    }
   ],
   "source": [
    "AC = A@C\n",
    "AB = A@B\n",
    "print(AB == AC)\n",
    "\n",
    "print(\"AB * A^-1 = AC * A^-1 <=> B = C or B != C donc A n'est pas inversible\")\n"
   ]
  },
  {
   "cell_type": "markdown",
   "id": "5c21bb49",
   "metadata": {},
   "source": [
    "## Multiplication naïve\n"
   ]
  },
  {
   "cell_type": "markdown",
   "id": "3b7b4c67",
   "metadata": {},
   "source": [
    ">**_question 1_** **Echauffement : Matrice de Hilbert**<br>\n",
    "À l'aide d'une double boucle `for` écrire une fonction qui renvoie la matrice de Hilbert d'ordre $n$, c'est-à-dire la matrice carrée de taille $n \\times n$ de terme général\n",
    ":$H_{i,j} = \\frac{1}{i+j-1}$.\n",
    "La matrice de Hilbert de taille 5 vaut donc\n",
    "$$\\mathcal{H} = \\begin{pmatrix} \n",
    "1 & \\frac{1}{2} & \\frac{1}{3} & \\frac{1}{4} & \\frac{1}{5} \\\\[4pt]\n",
    "\\frac{1}{2} & \\frac{1}{3} & \\frac{1}{4} & \\frac{1}{5} & \\frac{1}{6} \\\\[4pt]\n",
    "\\frac{1}{3} & \\frac{1}{4} & \\frac{1}{5} & \\frac{1}{6} & \\frac{1}{7} \\\\[4pt]\n",
    "\\frac{1}{4} & \\frac{1}{5} & \\frac{1}{6} & \\frac{1}{7} & \\frac{1}{8} \\\\[4pt]\n",
    "\\frac{1}{5} & \\frac{1}{6} & \\frac{1}{7} & \\frac{1}{8} & \\frac{1}{9} \\end{pmatrix} $$"
   ]
  },
  {
   "cell_type": "code",
   "execution_count": 9,
   "id": "cd277c12",
   "metadata": {},
   "outputs": [
    {
     "data": {
      "text/plain": [
       "array([[1.        , 0.5       , 0.33333333, 0.25      , 0.2       ],\n",
       "       [0.5       , 0.33333333, 0.25      , 0.2       , 0.16666667],\n",
       "       [0.33333333, 0.25      , 0.2       , 0.16666667, 0.14285714],\n",
       "       [0.25      , 0.2       , 0.16666667, 0.14285714, 0.125     ],\n",
       "       [0.2       , 0.16666667, 0.14285714, 0.125     , 0.11111111]])"
      ]
     },
     "execution_count": 9,
     "metadata": {},
     "output_type": "execute_result"
    }
   ],
   "source": [
    "def Hilbertmat(n):\n",
    "    H = np.ones((n,n))\n",
    "\n",
    "    for i in range (n):\n",
    "        for j in range(n):\n",
    "            H[i, j] = 1/(i+j+1)\n",
    "\n",
    "\n",
    "                    \n",
    "    return H\n",
    "\n",
    "Hilbertmat(5)\n",
    "\n"
   ]
  },
  {
   "cell_type": "markdown",
   "id": "a084ecd1",
   "metadata": {},
   "source": [
    ">**_question 1b_** **Echauffement bonus : Matrice de Vandermonde**<br>\n",
    "À l'aide d'une unique boucle `for`, écrire une fonction qui renvoie la matrice de Vandermonde associée au vecteur  $A=\\begin{pmatrix}\n",
    " \\alpha_1\\\\\n",
    "\\alpha_2 \\\\\n",
    " \\alpha_3\\\\\n",
    "\\vdots \\\\\n",
    "\\alpha_n\\\\\n",
    "\\end{pmatrix}$ , c'est-à-dire la matrice carrée de taille $n \\times n$ de terme général $V_{i,j} = {\\alpha_i}^{j-1}$\n",
    "On a donc $$V=\\begin{pmatrix}\n",
    "1 & \\alpha_1 & {\\alpha_1}^2 & \\dots & {\\alpha_1}^{n-1}\\\\\n",
    "1 & \\alpha_2 & {\\alpha_2}^2 & \\dots & {\\alpha_2}^{n-1}\\\\\n",
    "1 & \\alpha_3 & {\\alpha_3}^2 & \\dots & {\\alpha_3}^{n-1}\\\\\n",
    "\\vdots & \\vdots & \\vdots & &\\vdots \\\\\n",
    "1 & \\alpha_n & {\\alpha_n}^2 & \\dots & {\\alpha_n}^{n-1}\\\\\n",
    "\\end{pmatrix}$$\n",
    "\n"
   ]
  },
  {
   "cell_type": "code",
   "execution_count": 10,
   "id": "b45aa3d0",
   "metadata": {},
   "outputs": [
    {
     "data": {
      "text/plain": [
       "array([[1., 1., 1., 1., 1.],\n",
       "       [1., 1., 1., 1., 1.],\n",
       "       [1., 1., 1., 1., 1.],\n",
       "       [1., 1., 1., 1., 1.],\n",
       "       [1., 1., 1., 1., 1.]])"
      ]
     },
     "execution_count": 10,
     "metadata": {},
     "output_type": "execute_result"
    }
   ],
   "source": [
    "def Vandermondemat(A):\n",
    "    n = len(A)\n",
    "    V = np.ones((n,n))\n",
    "    \n",
    "\n",
    "    return V\n",
    "\n",
    "Vandermondemat(np.array([1,2,3,4,5]))"
   ]
  },
  {
   "cell_type": "markdown",
   "id": "8fa79b45",
   "metadata": {},
   "source": [
    ">**_question 2_** **Multiplication naïve**<br>\n",
    "À l'aide d'une triple boucle `for` écrire une fonction prenant en paramètre deux matrice $A,B$ calculant le produit matriciel $C = AB$, dont on rappel la formule : \n",
    "\n",
    "$$ C  = A \\times B = \\left(\\sum_{k = 1}^n A_{i,k} \\times B_{k,j}\\right)_ {1 \\leq i \\leq n, 1 \\leq j \\leq m} $$\n",
    "\n",
    "_Dans un premier temps on pourra travailler uniquement avec des matrices carrée $n\\times n$ et ne pas vérifier les tailles_"
   ]
  },
  {
   "cell_type": "code",
   "execution_count": 48,
   "id": "6f922195",
   "metadata": {},
   "outputs": [
    {
     "name": "stdout",
     "output_type": "stream",
     "text": [
      "[[25. 28.]\n",
      " [73. 82.]]\n"
     ]
    }
   ],
   "source": [
    "def naive_matrix_multiplication(matrix1, matrix2):\n",
    "    C = np.zeros((matrix1.shape[0], matrix2.shape[1]))\n",
    "\n",
    "    for i in range(matrix1.shape[0]):\n",
    "        for j in range(matrix2.shape[1]):\n",
    "            for k in range (len(matrix2)):\n",
    "                C[i][j] += matrix1[i, k] * matrix2[k, j]\n",
    "\n",
    "    return C\n",
    "\n",
    "matrix1 = np.array([[1, 2], [4, 5]])  # Matrice 2x2\n",
    "matrix2 = np.array([[7, 8], [9, 10]])  # Matrice 2x2\n",
    "\n",
    "# Appel de la fonction\n",
    "print(naive_matrix_multiplication(matrix1, matrix2))\n",
    "\n",
    "\n",
    "\n",
    "\n",
    "\n"
   ]
  },
  {
   "cell_type": "markdown",
   "id": "9d9f1c23",
   "metadata": {},
   "source": [
    ">**_question 2_** **Multiplication naïve**<br>\n",
    "En vous inspirant du TP1, et en utilisant la fonction suivante, tracer le temps d'execution de la mutliplication matricielle de deux matrice de taille $n \\times n$. Comparer ce temps et retrouver la complexité théorique de la multiplication naïve\n",
    "\n",
    "**rappel** pour trouver si la complexité $c(n)$ d'un algoritmhe est en $O(f(n))$, on calcul $\\frac{c(n)}{f(n)}$ et on voit si ce rapport est grosso-modo constant. S'il augmente c'est que la complexité est plus grande que $f(n)$, s'il diminue elle est plus petite "
   ]
  },
  {
   "cell_type": "code",
   "execution_count": 51,
   "id": "aea64ed5",
   "metadata": {},
   "outputs": [],
   "source": [
    "def measure_time_naive(n,k=7):\n",
    "    mean = 0\n",
    "    for i in range(k) : \n",
    "        matrix_A = np.random.rand(n, n)\n",
    "        matrix_B = np.random.rand(n, n)\n",
    "\n",
    "        start_time = time.time()\n",
    "        naive_matrix_multiplication(matrix_A, matrix_B)\n",
    "        end_time = time.time()\n",
    "        \n",
    "        mean = end_time - start_time\n",
    "    \n",
    "    return mean/k\n",
    "\n",
    "# Varying sizes of matrices for multiplication\n",
    "matrix_sizes = [10, 20, 30, 40, 50, 60, 70, 80, 90, 100,110,120,130,150,170]"
   ]
  },
  {
   "cell_type": "code",
   "execution_count": 53,
   "id": "0334650d",
   "metadata": {},
   "outputs": [
    {
     "data": {
      "image/png": "[encoded data removed]",
      "text/plain": [
       "<Figure size 800x600 with 1 Axes>"
      ]
     },
     "metadata": {},
     "output_type": "display_data"
    }
   ],
   "source": [
    "# Measuring time taken for matrix multiplication for different sizes\n",
    "time_taken = [measure_time_naive(size) for size in matrix_sizes]\n",
    "\n",
    "\n",
    "# Plotting the time complexity\n",
    "plt.figure(figsize=(8, 6))\n",
    "plt.plot(matrix_sizes, time_taken, marker='o', linestyle='-')\n",
    "plt.xlabel('Size of Matrices (n)')\n",
    "plt.ylabel('Time Taken (s)')\n",
    "plt.title('Naive Matrix Multiplication Time Complexity')\n",
    "plt.grid(True)\n",
    "plt.show()"
   ]
  },
  {
   "cell_type": "code",
   "execution_count": 61,
   "id": "2efa61c5",
   "metadata": {},
   "outputs": [
    {
     "data": {
      "image/png": "[encoded data removed]",
      "text/plain": [
       "<Figure size 576x432 with 1 Axes>"
      ]
     },
     "metadata": {
      "needs_background": "light"
     },
     "output_type": "display_data"
    }
   ],
   "source": [
    "time_adjusted = [1 for i in range(len(matrix_sizes))]\n",
    "\n",
    "\n",
    "# Plotting the time complexity\n",
    "plt.figure(figsize=(8, 6))\n",
    "plt.plot(matrix_sizes, time_adjusted, marker='o', linestyle='-')\n",
    "plt.xlabel('Size of Matrices (n)')\n",
    "plt.ylabel('Time Taken (s)')\n",
    "plt.title('Naive Matrix Multiplication Time Complexity')\n",
    "plt.grid(True)\n",
    "plt.show()"
   ]
  },
  {
   "cell_type": "markdown",
   "id": "90f18749",
   "metadata": {},
   "source": [
    ">**_question 3_** **Multiplication numpy**<br>\n",
    "Même question pour la multiplication `@` de numpy."
   ]
  },
  {
   "cell_type": "code",
   "execution_count": 54,
   "id": "39762476",
   "metadata": {},
   "outputs": [],
   "source": [
    "def measure_time_numpy(n,k=10):\n",
    "    mean = 0\n",
    "\n",
    "    \n",
    "\n",
    "    \n",
    "    return mean/k\n",
    "\n",
    "# Varying sizes of matrices for multiplication\n",
    "matrix_sizes_np = np.logspace(1,3.5,num = 100)"
   ]
  },
  {
   "cell_type": "code",
   "execution_count": 55,
   "id": "7c88488d",
   "metadata": {},
   "outputs": [
    {
     "data": {
      "image/png": "[encoded data removed]",
      "text/plain": [
       "<Figure size 1200x1200 with 1 Axes>"
      ]
     },
     "metadata": {},
     "output_type": "display_data"
    }
   ],
   "source": [
    "# Measuring time taken for matrix multiplication for different sizes\n",
    "time_taken_np = [measure_time_numpy(int(size)) for size in matrix_sizes_np]\n",
    "\n",
    "\n",
    "# Plotting the time complexity\n",
    "plt.figure(figsize=(12,12))\n",
    "plt.plot(matrix_sizes_np, time_taken_np, marker='o', linestyle='-')\n",
    "plt.xlabel('Size of Matrices (n)')\n",
    "plt.ylabel('Time Taken (s)')\n",
    "plt.title('Naive Matrix Multiplication Time Complexity')\n",
    "plt.grid(True)\n",
    "plt.show()"
   ]
  },
  {
   "cell_type": "code",
   "execution_count": 99,
   "id": "8d5b01e5",
   "metadata": {},
   "outputs": [
    {
     "data": {
      "image/png": "[encoded data removed]",
      "text/plain": [
       "<Figure size 576x432 with 1 Axes>"
      ]
     },
     "metadata": {
      "needs_background": "light"
     },
     "output_type": "display_data"
    }
   ],
   "source": [
    "\n",
    "\n",
    "\n",
    "offset = 10\n",
    "# Plotting the time complexity\n",
    "plt.figure(figsize=(8, 6))\n",
    "plt.plot(matrix_sizes_np[offset:], time_adjusted_np[offset:], marker='o', linestyle='-')\n",
    "plt.xlabel('Size of Matrices (n)')\n",
    "plt.ylabel('Time Taken (s)')\n",
    "plt.title('Naive Matrix Multiplication Time Complexity')\n",
    "plt.grid(True)\n",
    "plt.show()"
   ]
  },
  {
   "cell_type": "markdown",
   "id": "308eb7fd",
   "metadata": {},
   "source": [
    "# Bonus :  Résolution de systèmes en python"
   ]
  },
  {
   "cell_type": "markdown",
   "id": "a514c67c",
   "metadata": {},
   "source": [
    "Pour ceux et celles qui ont tout fini, on va implémenter l'algorithme du pivot de Gauss\n",
    "\n",
    ">**_question 1_** <br>\n",
    "Ecrire une fonction `gauss_pivot` qui prends en entrée un numpy array `A` et un vecteur `b` et essaye de résoudre le système $Ax = b$<br>\n",
    "On se contentera de résoudre le système dans le cas le plus simple :\n",
    "- les tailles sont cohérentes\n",
    "- le système est résoluble de manière unique (i.e. $A$ est inversible)\n",
    "- l'algorithme ne rencontre pas de pivot nul"
   ]
  },
  {
   "cell_type": "code",
   "execution_count": null,
   "id": "ad558777",
   "metadata": {},
   "outputs": [],
   "source": []
  },
  {
   "cell_type": "code",
   "execution_count": 116,
   "id": "d8c08a51",
   "metadata": {},
   "outputs": [
    {
     "name": "stdout",
     "output_type": "stream",
     "text": [
      "étape  0  le système est \n",
      "  [[  2.   1.  -1.   8.]\n",
      " [ -1.  -5.   2. -11.]\n",
      " [ -2.   2.   3.  -3.]]\n",
      "-------------------- \n",
      " elimination \n",
      "-------------------- \n",
      "\n",
      "-0.5\n",
      "-1.0\n",
      "étape  1  le système est \n",
      "  [[ 2.   1.  -1.   8. ]\n",
      " [ 0.  -4.5  1.5 -7. ]\n",
      " [ 0.   3.   2.   5. ]]\n",
      "-0.6666666666666666\n",
      "étape  2  le système est \n",
      "  [[ 2.          1.         -1.          8.        ]\n",
      " [ 0.         -4.5         1.5        -7.        ]\n",
      " [ 0.          0.          3.          0.33333333]]\n",
      "étape  3  le système est \n",
      "  [[ 2.          1.         -1.          8.        ]\n",
      " [ 0.         -4.5         1.5        -7.        ]\n",
      " [ 0.          0.          3.          0.33333333]]\n",
      "[[ 2.          1.         -1.          8.        ]\n",
      " [ 0.         -4.5         1.5        -7.        ]\n",
      " [ 0.          0.          3.          0.33333333]]\n",
      "-------------------- \n",
      " substitution \n",
      "-------------------- \n",
      "\n",
      "étape  3  le système est \n",
      "  [[ 2.          1.         -1.          8.11111111]\n",
      " [ 0.         -4.5         1.5        -7.16666667]\n",
      " [ 0.          0.          3.          0.33333333]]\n",
      "étape  3  le vecteur est \n",
      "  [0.         0.         0.11111111]\n",
      "étape  2  le système est \n",
      "  [[ 2.          1.         -1.          6.51851852]\n",
      " [ 0.         -4.5         1.5        -7.16666667]\n",
      " [ 0.          0.          3.          0.33333333]]\n",
      "étape  2  le vecteur est \n",
      "  [0.         1.59259259 0.11111111]\n",
      "étape  1  le système est \n",
      "  [[ 2.          1.         -1.          6.51851852]\n",
      " [ 0.         -4.5         1.5        -7.16666667]\n",
      " [ 0.          0.          3.          0.33333333]]\n",
      "étape  1  le vecteur est \n",
      "  [3.25925926 1.59259259 0.11111111]\n",
      "Solution:\n",
      " [3.25925926 1.59259259 0.11111111]\n",
      "[  8. -11.  -3.]\n",
      "[3.25925926 1.59259259 0.11111111]\n"
     ]
    }
   ],
   "source": [
    "def gauss_pivot(A, b):\n",
    "  return -1"
   ]
  },
  {
   "cell_type": "markdown",
   "id": "eda133b2",
   "metadata": {},
   "source": [
    ">**_question 2_** <br>\n",
    "À l'aide d'un compteur ou d'un timer, estimer la complexité de votre algorithme."
   ]
  },
  {
   "cell_type": "code",
   "execution_count": null,
   "id": "da0e5c7c",
   "metadata": {},
   "outputs": [],
   "source": []
  }
 ],
 "metadata": {
  "kernelspec": {
   "display_name": "Python 3",
   "language": "python",
   "name": "python3"
  },
  "language_info": {
   "codemirror_mode": {
    "name": "ipython",
    "version": 3
   },
   "file_extension": ".py",
   "mimetype": "text/x-python",
   "name": "python",
   "nbconvert_exporter": "python",
   "pygments_lexer": "ipython3",
   "version": "3.12.3"
  }
 },
 "nbformat": 4,
 "nbformat_minor": 5
}
